{
 "cells": [
  {
   "cell_type": "code",
   "execution_count": null,
   "metadata": {
    "vscode": {
     "languageId": "plaintext"
    }
   },
   "outputs": [],
   "source": [
    "#@title Install Requirements { display-mode: \"form }\n",
    "\n",
    "!pip install -r requirements.txt"
   ]
  },
  {
   "cell_type": "code",
   "execution_count": null,
   "metadata": {
    "vscode": {
     "languageId": "plaintext"
    }
   },
   "outputs": [],
   "source": [
    "#@title Data Path Input { display-mode: \"form\" }\n",
    "data_path = \"/content/sample_data/data.csv\" #@param {type:\"string\"}\n",
    "\n",
    "print(f\"Using data path: {data_path}\")"
   ]
  },
  {
   "cell_type": "code",
   "execution_count": null,
   "metadata": {
    "vscode": {
     "languageId": "plaintext"
    }
   },
   "outputs": [],
   "source": [
    "#@title Enter an Integer { display-mode: \"form\" }\n",
    "number = 5 #@param {type:\"integer\"}\n",
    "\n",
    "print(f\"You entered: {number}\")"
   ]
  },
  {
   "cell_type": "code",
   "execution_count": null,
   "metadata": {
    "vscode": {
     "languageId": "plaintext"
    }
   },
   "outputs": [],
   "source": [
    "#@title Select an Option { display-mode: \"form\" }\n",
    "option = \"Option 1\" #@param [\"Option 1\", \"Option 2\", \"Option 3\"]\n",
    "\n",
    "print(f\"You selected: {option}\")"
   ]
  },
  {
   "cell_type": "code",
   "execution_count": null,
   "metadata": {
    "vscode": {
     "languageId": "plaintext"
    }
   },
   "outputs": [],
   "source": [
    "#@title Adjust the Slider { display-mode: \"form\" }\n",
    "slider_value = 50 #@param {type:\"slider\", min:0, max:100, step:1}\n",
    "\n",
    "print(f\"Slider value: {slider_value}\")"
   ]
  },
  {
   "cell_type": "code",
   "execution_count": null,
   "metadata": {
    "vscode": {
     "languageId": "plaintext"
    }
   },
   "outputs": [],
   "source": [
    "#@title Enable Feature { display-mode: \"form\" }\n",
    "enable_feature = True #@param {type:\"boolean\"}\n",
    "\n",
    "if enable_feature:\n",
    "    print(\"Feature is enabled!\")\n",
    "else:\n",
    "    print(\"Feature is disabled!\")"
   ]
  }
 ],
 "metadata": {
  "language_info": {
   "name": "python"
  }
 },
 "nbformat": 4,
 "nbformat_minor": 2
}
